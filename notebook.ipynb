{
 "cells": [
  {
   "cell_type": "code",
   "execution_count": 1,
   "id": "906ba6f7",
   "metadata": {},
   "outputs": [
    {
     "name": "stderr",
     "output_type": "stream",
     "text": [
      "/Users/donation/Documents/MLX/Week_5/MLX8_W5_MIDI_Generator/.venv/lib/python3.10/site-packages/tqdm/auto.py:21: TqdmWarning: IProgress not found. Please update jupyter and ipywidgets. See https://ipywidgets.readthedocs.io/en/stable/user_install.html\n",
      "  from .autonotebook import tqdm as notebook_tqdm\n",
      "Generating train split: 100%|██████████| 962/962 [00:03<00:00, 296.30 examples/s]\n",
      "Generating validation split: 100%|██████████| 137/137 [00:00<00:00, 454.46 examples/s]\n",
      "Generating test split: 100%|██████████| 177/177 [00:00<00:00, 504.27 examples/s]\n"
     ]
    }
   ],
   "source": [
    "from datasets import load_dataset\n",
    "\n",
    "ds = load_dataset(\"roszcz/maestro-v1\")"
   ]
  },
  {
   "cell_type": "code",
   "execution_count": 2,
   "id": "cab67528",
   "metadata": {},
   "outputs": [
    {
     "data": {
      "text/plain": [
       "DatasetDict({\n",
       "    train: Dataset({\n",
       "        features: ['notes', 'control_changes', 'composer', 'title', 'year', 'midi_filename'],\n",
       "        num_rows: 962\n",
       "    })\n",
       "    validation: Dataset({\n",
       "        features: ['notes', 'control_changes', 'composer', 'title', 'year', 'midi_filename'],\n",
       "        num_rows: 137\n",
       "    })\n",
       "    test: Dataset({\n",
       "        features: ['notes', 'control_changes', 'composer', 'title', 'year', 'midi_filename'],\n",
       "        num_rows: 177\n",
       "    })\n",
       "})"
      ]
     },
     "execution_count": 2,
     "metadata": {},
     "output_type": "execute_result"
    }
   ],
   "source": [
    "ds"
   ]
  },
  {
   "cell_type": "code",
   "execution_count": 6,
   "id": "812eca87",
   "metadata": {},
   "outputs": [
    {
     "data": {
      "text/plain": [
       "'2018/MIDI-Unprocessed_Chamber3_MID--AUDIO_10_R3_2018_wav--1.midi'"
      ]
     },
     "execution_count": 6,
     "metadata": {},
     "output_type": "execute_result"
    }
   ],
   "source": [
    "ds['train']['midi_filename'][0]"
   ]
  }
 ],
 "metadata": {
  "kernelspec": {
   "display_name": ".venv",
   "language": "python",
   "name": "python3"
  },
  "language_info": {
   "codemirror_mode": {
    "name": "ipython",
    "version": 3
   },
   "file_extension": ".py",
   "mimetype": "text/x-python",
   "name": "python",
   "nbconvert_exporter": "python",
   "pygments_lexer": "ipython3",
   "version": "3.10.4"
  }
 },
 "nbformat": 4,
 "nbformat_minor": 5
}
